{
  "nbformat": 4,
  "nbformat_minor": 0,
  "metadata": {
    "colab": {
      "name": "DemandaBicicletasparaDespliegueML",
      "provenance": [],
      "collapsed_sections": []
    },
    "kernelspec": {
      "name": "python3",
      "display_name": "Python 3"
    },
    "language_info": {
      "name": "python"
    }
  },
  "cells": [
    {
      "cell_type": "code",
      "metadata": {
        "id": "6hMcxH04QuZw"
      },
      "source": [
        "!wget --no-cache -O init.py -q https://raw.githubusercontent.com/UDEA-Esp-Analitica-y-Ciencia-de-Datos/EACD-06-MACHINE-LEARNING-II/master/init.py\n",
        "import init; init.init(force_download=False);"
      ],
      "execution_count": null,
      "outputs": []
    },
    {
      "cell_type": "code",
      "metadata": {
        "colab": {
          "base_uri": "https://localhost:8080/",
          "height": 342
        },
        "id": "mzNwlICcBivn",
        "outputId": "95597be4-9a0d-46c6-b940-04dca7d0ef3c"
      },
      "source": [
        "pip install scikit-learn --upgrade"
      ],
      "execution_count": null,
      "outputs": [
        {
          "output_type": "stream",
          "text": [
            "Collecting scikit-learn\n",
            "\u001b[?25l  Downloading https://files.pythonhosted.org/packages/f3/74/eb899f41d55f957e2591cde5528e75871f817d9fb46d4732423ecaca736d/scikit_learn-0.24.1-cp37-cp37m-manylinux2010_x86_64.whl (22.3MB)\n",
            "\u001b[K     |████████████████████████████████| 22.3MB 1.9MB/s \n",
            "\u001b[?25hRequirement already satisfied, skipping upgrade: joblib>=0.11 in /usr/local/lib/python3.7/dist-packages (from scikit-learn) (1.0.1)\n",
            "Requirement already satisfied, skipping upgrade: scipy>=0.19.1 in /usr/local/lib/python3.7/dist-packages (from scikit-learn) (1.4.1)\n",
            "Requirement already satisfied, skipping upgrade: numpy>=1.13.3 in /usr/local/lib/python3.7/dist-packages (from scikit-learn) (1.19.5)\n",
            "Collecting threadpoolctl>=2.0.0\n",
            "  Downloading https://files.pythonhosted.org/packages/f7/12/ec3f2e203afa394a149911729357aa48affc59c20e2c1c8297a60f33f133/threadpoolctl-2.1.0-py3-none-any.whl\n",
            "Installing collected packages: threadpoolctl, scikit-learn\n",
            "  Found existing installation: scikit-learn 0.22.2.post1\n",
            "    Uninstalling scikit-learn-0.22.2.post1:\n",
            "      Successfully uninstalled scikit-learn-0.22.2.post1\n",
            "Successfully installed scikit-learn-0.24.1 threadpoolctl-2.1.0\n"
          ],
          "name": "stdout"
        },
        {
          "output_type": "display_data",
          "data": {
            "application/vnd.colab-display-data+json": {
              "pip_warning": {
                "packages": [
                  "sklearn"
                ]
              }
            }
          },
          "metadata": {
            "tags": []
          }
        }
      ]
    },
    {
      "cell_type": "code",
      "metadata": {
        "id": "izvlIz7KRRdj"
      },
      "source": [
        "import pandas as pd\n",
        "import numpy as np\n",
        "%matplotlib inline\n",
        "import matplotlib.pyplot as plt\n",
        "import seaborn as sns\n",
        "import joblib\n",
        "\n",
        "from datetime import datetime\n",
        "from sklearn.pipeline import Pipeline\n",
        "from sklearn.model_selection import GridSearchCV, TimeSeriesSplit, cross_val_score, cross_validate\n",
        "from sklearn.preprocessing import MinMaxScaler\n",
        "from sklearn.ensemble import RandomForestRegressor\n",
        "from sklearn.base import BaseEstimator, TransformerMixin, RegressorMixin\n",
        "from sklearn.metrics import make_scorer, mean_squared_error, mean_absolute_error\n"
      ],
      "execution_count": null,
      "outputs": []
    },
    {
      "cell_type": "code",
      "metadata": {
        "colab": {
          "base_uri": "https://localhost:8080/",
          "height": 136
        },
        "id": "l67Xl4ByRXtU",
        "outputId": "c9e1cfd4-af05-47ac-cd4c-4b315d5fa13a"
      },
      "source": [
        "datos = pd.read_csv('/content/local/data/timeseries.csv')\n",
        "del datos['dteday']\n",
        "del datos['season']\n",
        "del datos['instant']\n",
        "del datos['casual']\n",
        "del datos['registered']\n",
        "datos.sample(3)"
      ],
      "execution_count": null,
      "outputs": [
        {
          "output_type": "execute_result",
          "data": {
            "text/html": [
              "<div>\n",
              "<style scoped>\n",
              "    .dataframe tbody tr th:only-of-type {\n",
              "        vertical-align: middle;\n",
              "    }\n",
              "\n",
              "    .dataframe tbody tr th {\n",
              "        vertical-align: top;\n",
              "    }\n",
              "\n",
              "    .dataframe thead th {\n",
              "        text-align: right;\n",
              "    }\n",
              "</style>\n",
              "<table border=\"1\" class=\"dataframe\">\n",
              "  <thead>\n",
              "    <tr style=\"text-align: right;\">\n",
              "      <th></th>\n",
              "      <th>yr</th>\n",
              "      <th>mnth</th>\n",
              "      <th>hr</th>\n",
              "      <th>holiday</th>\n",
              "      <th>weekday</th>\n",
              "      <th>workingday</th>\n",
              "      <th>weathersit</th>\n",
              "      <th>temp</th>\n",
              "      <th>atemp</th>\n",
              "      <th>hum</th>\n",
              "      <th>windspeed</th>\n",
              "      <th>cnt</th>\n",
              "    </tr>\n",
              "  </thead>\n",
              "  <tbody>\n",
              "    <tr>\n",
              "      <th>7</th>\n",
              "      <td>0</td>\n",
              "      <td>1</td>\n",
              "      <td>7</td>\n",
              "      <td>0</td>\n",
              "      <td>6</td>\n",
              "      <td>0</td>\n",
              "      <td>1</td>\n",
              "      <td>0.20</td>\n",
              "      <td>0.2576</td>\n",
              "      <td>0.86</td>\n",
              "      <td>0.0000</td>\n",
              "      <td>3</td>\n",
              "    </tr>\n",
              "    <tr>\n",
              "      <th>928</th>\n",
              "      <td>0</td>\n",
              "      <td>2</td>\n",
              "      <td>7</td>\n",
              "      <td>0</td>\n",
              "      <td>5</td>\n",
              "      <td>1</td>\n",
              "      <td>1</td>\n",
              "      <td>0.08</td>\n",
              "      <td>0.1667</td>\n",
              "      <td>0.73</td>\n",
              "      <td>0.0000</td>\n",
              "      <td>74</td>\n",
              "    </tr>\n",
              "    <tr>\n",
              "      <th>8671</th>\n",
              "      <td>1</td>\n",
              "      <td>1</td>\n",
              "      <td>2</td>\n",
              "      <td>1</td>\n",
              "      <td>1</td>\n",
              "      <td>0</td>\n",
              "      <td>1</td>\n",
              "      <td>0.36</td>\n",
              "      <td>0.3182</td>\n",
              "      <td>0.34</td>\n",
              "      <td>0.4478</td>\n",
              "      <td>7</td>\n",
              "    </tr>\n",
              "  </tbody>\n",
              "</table>\n",
              "</div>"
            ],
            "text/plain": [
              "      yr  mnth  hr  holiday  weekday  ...  temp   atemp   hum  windspeed  cnt\n",
              "7      0     1   7        0        6  ...  0.20  0.2576  0.86     0.0000    3\n",
              "928    0     2   7        0        5  ...  0.08  0.1667  0.73     0.0000   74\n",
              "8671   1     1   2        1        1  ...  0.36  0.3182  0.34     0.4478    7\n",
              "\n",
              "[3 rows x 12 columns]"
            ]
          },
          "metadata": {
            "tags": []
          },
          "execution_count": 8
        }
      ]
    },
    {
      "cell_type": "markdown",
      "metadata": {
        "id": "5AwuZffhZ89r"
      },
      "source": [
        "Extracción de características:\n",
        "\n",
        "Anexamos 3 caracteristicas tipo binarias de la siguiente manera:\n",
        "* Separar los datos de poca actividad: 0: para horario de 24:00-06:00, 1: para horario entre las 7:00-23:00, la llamaremos wee_hour\n",
        "* Tomar el valor correspondiente a si el día anterior fue laboral o no, la llamaremos wrok_ytd\n",
        "* Tomar el valor correspondiente a si el día siguiente es laboral o no, la llamaremos work_tmr\n",
        "*Crearemos una característica que muestre la media de: temperatura de los últimos 7 días, \n",
        "\n"
      ]
    },
    {
      "cell_type": "code",
      "metadata": {
        "id": "mzoW0CGGdVOc"
      },
      "source": [
        "class BikeFeatureExtractor(BaseEstimator, TransformerMixin):\n",
        "    def __init__(self):\n",
        "        pass\n",
        "\n",
        "    def fit(self , X, y=None):\n",
        "        return self\n",
        "\n",
        "    def transform(self, X):\n",
        "        data = X.copy()\n",
        "        data = _hour_type(data)\n",
        "        data = _work_days_next(data)\n",
        "        data = _weathersit_day_next(data)\n",
        "        data = _rolling_seven_days_cnt(data)\n",
        "        data =  _rolling_seven_days_temp(data)\n",
        "        data = _rolling_seven_days_hum(data)\n",
        "        return data\n",
        "\n",
        "def _hour_type(data):\n",
        "    data['hour_type'] = np.where(data['hr']<=6, 0, 1)\n",
        "    return data\n",
        "\n",
        "def _work_days_next(data, n_timesteps_lookback = 1 ):\n",
        "    signal_values = data['workingday'].values\n",
        "    date_values = data.index\n",
        "    r = pd.DataFrame(columns = None, index = date_values[n_timesteps_lookback:-1])\n",
        "    for i in range(1, n_timesteps_lookback+1): \n",
        "    #   r['workingday'] = signal_values[n_timesteps_lookback:-1]             \n",
        "      r[f'workingday_ytd-{i}']= signal_values[n_timesteps_lookback-i:-i-1]\n",
        "    r['workingday_tmr']= signal_values[n_timesteps_lookback+1:] \n",
        "    data = pd.concat([data, r], axis = 1)\n",
        "    data = data.fillna(data.median())\n",
        "    return data\n",
        "\n",
        "def _weathersit_day_next(data, n_timesteps_lookback = 1 ):\n",
        "    signal_values = data['weathersit'].values\n",
        "    date_values = data.index\n",
        "    r = pd.DataFrame(columns = None, index = date_values[n_timesteps_lookback:-1])\n",
        "    for i in range(1, n_timesteps_lookback+1): \n",
        "    #   r['workingday'] = signal_values[n_timesteps_lookback:-1]             \n",
        "      r[f'weathersit_ytd-{i}']= signal_values[n_timesteps_lookback-i:-i-1]\n",
        "    r['weathersit_tmr']= signal_values[n_timesteps_lookback+1:] \n",
        "    data = pd.concat([data, r], axis = 1)\n",
        "    data = data.fillna(data.median())\n",
        "    return data\n",
        "\n",
        "def _rolling_seven_days_cnt(data, window = 7):\n",
        "    data['moving_avg_cnt'] = pd.Series(data['cnt']).rolling(window = window).mean()\n",
        "    data = data.fillna(data.min())\n",
        "    return data\n",
        "\n",
        "def _rolling_seven_days_temp(data, window = 7):\n",
        "    data['moving_avg_temp'] = pd.Series(data['temp']).rolling(window = window).mean()\n",
        "    data = data.fillna(data.min())\n",
        "    return data\n",
        "\n",
        "def _rolling_seven_days_hum(data, window = 7):\n",
        "    data['moving_avg_hum'] = pd.Series(data['hum']).rolling(window = window).mean()\n",
        "    data = data.fillna(data.min())\n",
        "    return data"
      ],
      "execution_count": null,
      "outputs": []
    },
    {
      "cell_type": "markdown",
      "metadata": {
        "id": "RUNnTzjg2uV6"
      },
      "source": [
        "Selección de principales caracterlisticas con el el coeficiente de correlación de Pearson y separación de features y target"
      ]
    },
    {
      "cell_type": "code",
      "metadata": {
        "id": "vZ6MuPJy6hBi"
      },
      "source": [
        "class FilteredFeatures(BaseEstimator, TransformerMixin):\n",
        "    def __init__(self, target, value):\n",
        "        self.value = value\n",
        "        self.target = target\n",
        "\n",
        "    def fit(self, X, y =None):\n",
        "        return self\n",
        "\n",
        "    def transform(self, X):\n",
        "        data = X.copy()\n",
        "        data = _correlation(data, self.value)\n",
        "        X, y, cols = _separatingXy(data, self.target)\n",
        "        return X, y, cols\n",
        "\n",
        "def _correlation(data, value):\n",
        "    cor = data.corr()\n",
        "    cor_target = abs(cor['cnt'])\n",
        "    relevant_features = cor_target[cor_target >value]\n",
        "    cols = relevant_features.keys().values\n",
        "    return data[cols]\n",
        "\n",
        "def _separatingXy(data, target):\n",
        "    y = data[target]\n",
        "    X = data.drop(target, axis = 1)\n",
        "    cols = X.columns\n",
        "    scaler = MinMaxScaler()\n",
        "    scaled = scaler.fit_transform(X)\n",
        "    X = scaled\n",
        "    return X, y, cols"
      ],
      "execution_count": null,
      "outputs": []
    },
    {
      "cell_type": "markdown",
      "metadata": {
        "id": "yrioWaqCA5fZ"
      },
      "source": [
        "Reservar datos para entrenamiento y test"
      ]
    },
    {
      "cell_type": "code",
      "metadata": {
        "id": "5ZGaIjezA5D8"
      },
      "source": [
        "class CustomTrainTestSplit(BaseEstimator, TransformerMixin):\n",
        "    def __init__(self, data):\n",
        "        self.data = data\n",
        "        pass\n",
        "\n",
        "    def fit(self, X, y):\n",
        "        return self\n",
        "\n",
        "    def transform(self, X, y ):\n",
        "        dataset = X.copy()\n",
        "        train_indices = self.data['yr']==0\n",
        "        X_train, y_train, X_test, y_test =  dataset[train_indices], y[train_indices], dataset[~train_indices], y[~train_indices]\n",
        "        return X_train, y_train, X_test, y_test"
      ],
      "execution_count": null,
      "outputs": []
    },
    {
      "cell_type": "markdown",
      "metadata": {
        "id": "KGpdf3ME7xZQ"
      },
      "source": [
        "Preprocesing de los datos"
      ]
    },
    {
      "cell_type": "code",
      "metadata": {
        "id": "JRYG_FBxZxyW",
        "colab": {
          "base_uri": "https://localhost:8080/"
        },
        "outputId": "40ffea55-95f4-4a31-85bd-292324a67c1b"
      },
      "source": [
        "df = BikeFeatureExtractor().transform(datos)\n",
        "X, y, features = FilteredFeatures('cnt', 0.28).transform(df)\n",
        "X_train, y_train, X_test, y_test = CustomTrainTestSplit(df).transform(X,y)\n",
        "X_train.shape, y_train.shape, X_test.shape, y_test.shape"
      ],
      "execution_count": null,
      "outputs": [
        {
          "output_type": "execute_result",
          "data": {
            "text/plain": [
              "((8645, 7), (8645,), (8734, 7), (8734,))"
            ]
          },
          "metadata": {
            "tags": []
          },
          "execution_count": 12
        }
      ]
    },
    {
      "cell_type": "markdown",
      "metadata": {
        "id": "HbaL0OK59fBg"
      },
      "source": [
        "Estas fueron las características seleccionadas como las que más se correlacionan con la variable dependiente:"
      ]
    },
    {
      "cell_type": "code",
      "metadata": {
        "colab": {
          "base_uri": "https://localhost:8080/"
        },
        "id": "yOrsKb699TYZ",
        "outputId": "4d502bd3-e764-464e-eb32-60f49463601d"
      },
      "source": [
        "#Con estas características podremos diseñar el formulario para el despliegue de la aplicación\n",
        "features"
      ],
      "execution_count": null,
      "outputs": [
        {
          "output_type": "execute_result",
          "data": {
            "text/plain": [
              "Index(['hr', 'temp', 'atemp', 'hum', 'hour_type', 'moving_avg_cnt',\n",
              "       'moving_avg_temp'],\n",
              "      dtype='object')"
            ]
          },
          "metadata": {
            "tags": []
          },
          "execution_count": 13
        }
      ]
    },
    {
      "cell_type": "code",
      "metadata": {
        "colab": {
          "base_uri": "https://localhost:8080/",
          "height": 194
        },
        "id": "uqnQRuwRDmg-",
        "outputId": "704af06c-6357-431f-b964-c29cc2b66be2"
      },
      "source": [
        "fig, ax = plt.subplots(figsize = (30,4))\n",
        "y_train.plot(ax = ax, label = 'train')\n",
        "y_test.plot(ax = ax, label = 'test')\n",
        "ax.legend()"
      ],
      "execution_count": null,
      "outputs": [
        {
          "output_type": "execute_result",
          "data": {
            "text/plain": [
              "<matplotlib.legend.Legend at 0x7fb863dba690>"
            ]
          },
          "metadata": {
            "tags": []
          },
          "execution_count": 14
        },
        {
          "output_type": "display_data",
          "data": {
            "image/png": "[encoded data removed]",
            "text/plain": [
              "<Figure size 2160x288 with 1 Axes>"
            ]
          },
          "metadata": {
            "tags": [],
            "needs_background": "light"
          }
        }
      ]
    },
    {
      "cell_type": "code",
      "metadata": {
        "id": "svkrUdcUE_FW"
      },
      "source": [
        "timeSerieSpliter = TimeSeriesSplit(n_splits=5, max_train_size=4)\n",
        "scorer = make_scorer(mean_absolute_error)"
      ],
      "execution_count": null,
      "outputs": []
    },
    {
      "cell_type": "code",
      "metadata": {
        "colab": {
          "base_uri": "https://localhost:8080/"
        },
        "id": "zCVAR4riFO6j",
        "outputId": "00f06ec1-81a5-49b8-969a-307110850b6c"
      },
      "source": [
        "cross_validate(RandomForestRegressor(), X_train, y_train, scoring = scorer, cv =timeSerieSpliter)"
      ],
      "execution_count": null,
      "outputs": [
        {
          "output_type": "execute_result",
          "data": {
            "text/plain": [
              "{'fit_time': array([0.14686656, 0.12456799, 0.11658669, 0.12172318, 0.11444497]),\n",
              " 'score_time': array([0.02009678, 0.01034975, 0.00985003, 0.0093379 , 0.00936699]),\n",
              " 'test_score': array([ 76.91190278, 163.69088889, 116.16193056, 159.19440972,\n",
              "        262.37503472])}"
            ]
          },
          "metadata": {
            "tags": []
          },
          "execution_count": 16
        }
      ]
    },
    {
      "cell_type": "markdown",
      "metadata": {
        "id": "86ufJkdRGc8_"
      },
      "source": [
        "Cargo el modelo dentro del Pipeline para pasarlo por el GridSearch"
      ]
    },
    {
      "cell_type": "code",
      "metadata": {
        "id": "Dwuw9FbWDp5Z"
      },
      "source": [
        "model = Pipeline([\n",
        "                  ('clf', RandomForestRegressor())\n",
        "])"
      ],
      "execution_count": null,
      "outputs": []
    },
    {
      "cell_type": "markdown",
      "metadata": {
        "id": "6DmObJ3EGjBc"
      },
      "source": [
        "Establezco los parámetros del GridSearch para la búsqueda de los mejores parámetros:"
      ]
    },
    {
      "cell_type": "code",
      "metadata": {
        "id": "MbPfxJa3E6ml"
      },
      "source": [
        "param_grid = {\n",
        "        'clf__max_depth': [2,3,5, 6, 8, 10, 13],\n",
        "        'clf__criterion': ['mse', 'mae'],\n",
        "        'clf__max_features': ['auto', 'sqrt', 'log2'] \n",
        "}"
      ],
      "execution_count": null,
      "outputs": []
    },
    {
      "cell_type": "markdown",
      "metadata": {
        "id": "YW0kztakGrO7"
      },
      "source": [
        "Instancio el GridSearchCV:"
      ]
    },
    {
      "cell_type": "code",
      "metadata": {
        "id": "Ga902yPIF9Ul"
      },
      "source": [
        "grid_search = GridSearchCV(\n",
        "    model, \n",
        "    param_grid = param_grid,\n",
        "    cv = timeSerieSpliter\n",
        ")"
      ],
      "execution_count": null,
      "outputs": []
    },
    {
      "cell_type": "markdown",
      "metadata": {
        "id": "puA8Sr1gGzO6"
      },
      "source": [
        "Entreno el Grid para extraer los mejores parámetros:"
      ]
    },
    {
      "cell_type": "code",
      "metadata": {
        "colab": {
          "base_uri": "https://localhost:8080/"
        },
        "id": "uBykKZ7wGCK5",
        "outputId": "763fabf6-934e-4466-eeef-3de553b3b267"
      },
      "source": [
        "grid_search.fit(X_train, y_train)"
      ],
      "execution_count": null,
      "outputs": [
        {
          "output_type": "execute_result",
          "data": {
            "text/plain": [
              "GridSearchCV(cv=TimeSeriesSplit(gap=0, max_train_size=4, n_splits=5, test_size=None),\n",
              "             estimator=Pipeline(steps=[('clf', RandomForestRegressor())]),\n",
              "             param_grid={'clf__criterion': ['mse', 'mae'],\n",
              "                         'clf__max_depth': [2, 3, 5, 6, 8, 10, 13],\n",
              "                         'clf__max_features': ['auto', 'sqrt', 'log2']})"
            ]
          },
          "metadata": {
            "tags": []
          },
          "execution_count": 32
        }
      ]
    },
    {
      "cell_type": "markdown",
      "metadata": {
        "id": "zc70EAZ9G4dM"
      },
      "source": [
        "Estos on los mejores parámetros para el RandomForesregressor:"
      ]
    },
    {
      "cell_type": "code",
      "metadata": {
        "colab": {
          "base_uri": "https://localhost:8080/"
        },
        "id": "MC4_uwAVGN20",
        "outputId": "046d4e28-ebc2-435d-a1c9-f00ededa68dc"
      },
      "source": [
        "grid_search.best_params_"
      ],
      "execution_count": null,
      "outputs": [
        {
          "output_type": "execute_result",
          "data": {
            "text/plain": [
              "{'clf__criterion': 'mae', 'clf__max_depth': 13, 'clf__max_features': 'log2'}"
            ]
          },
          "metadata": {
            "tags": []
          },
          "execution_count": 33
        }
      ]
    },
    {
      "cell_type": "markdown",
      "metadata": {
        "id": "TOOWE57HGUyd"
      },
      "source": [
        "Ajusto de nuevo el modelo con los mejores parámetros:"
      ]
    },
    {
      "cell_type": "code",
      "metadata": {
        "colab": {
          "base_uri": "https://localhost:8080/"
        },
        "id": "JqqXHJZ2G_DG",
        "outputId": "2f04ec8c-e305-4e06-8ec4-1fd61656b7f7"
      },
      "source": [
        "clf = RandomForestRegressor(max_depth=13, criterion='mae', max_features='log2')\n",
        "clf.fit(X_train, y_train)"
      ],
      "execution_count": null,
      "outputs": [
        {
          "output_type": "execute_result",
          "data": {
            "text/plain": [
              "RandomForestRegressor(criterion='mae', max_depth=13, max_features='log2')"
            ]
          },
          "metadata": {
            "tags": []
          },
          "execution_count": 34
        }
      ]
    },
    {
      "cell_type": "markdown",
      "metadata": {
        "id": "xCn1MvYJHKeC"
      },
      "source": [
        "Ahora hacemos predicciones y medimos el error"
      ]
    },
    {
      "cell_type": "code",
      "metadata": {
        "colab": {
          "base_uri": "https://localhost:8080/"
        },
        "id": "HQEuwKAoHH2p",
        "outputId": "42458e18-f86a-4cc6-f673-3adc48f13675"
      },
      "source": [
        "y_pred = clf.predict(X_test)\n",
        "mean_absolute_error(y_test, y_pred)"
      ],
      "execution_count": null,
      "outputs": [
        {
          "output_type": "execute_result",
          "data": {
            "text/plain": [
              "85.15587645981223"
            ]
          },
          "metadata": {
            "tags": []
          },
          "execution_count": 35
        }
      ]
    },
    {
      "cell_type": "code",
      "metadata": {
        "colab": {
          "base_uri": "https://localhost:8080/"
        },
        "id": "Xp1xBd9zIXza",
        "outputId": "7e249472-46ed-432a-9ddc-726a9c0eac31"
      },
      "source": [
        "clf.score(X_test, y_test)"
      ],
      "execution_count": null,
      "outputs": [
        {
          "output_type": "execute_result",
          "data": {
            "text/plain": [
              "0.6134656635478459"
            ]
          },
          "metadata": {
            "tags": []
          },
          "execution_count": 36
        }
      ]
    },
    {
      "cell_type": "markdown",
      "metadata": {
        "id": "ThpVdD6qH1AL"
      },
      "source": [
        "Hacemos una prediccion de un solo dato al azar:"
      ]
    },
    {
      "cell_type": "code",
      "metadata": {
        "colab": {
          "base_uri": "https://localhost:8080/"
        },
        "id": "fTMNmLmu6cqg",
        "outputId": "900135da-44a8-41cd-c772-687e1764c6a3"
      },
      "source": [
        "idxs = np.random.permutation(len(X_test))[:1]\n",
        "y_pred = clf.predict(X_test[idxs].reshape(1,-1))\n",
        "y_true= y_test.values[idxs]\n",
        "y_pred, y_true, mean_absolute_error(y_true, y_pred)"
      ],
      "execution_count": null,
      "outputs": [
        {
          "output_type": "execute_result",
          "data": {
            "text/plain": [
              "(array([159.31]), array([238]), 78.69)"
            ]
          },
          "metadata": {
            "tags": []
          },
          "execution_count": 37
        }
      ]
    },
    {
      "cell_type": "markdown",
      "metadata": {
        "id": "MXILqF6d_0Ef"
      },
      "source": [
        "Ahora me interesa saber cómo son las predicciones si entreno con toda la información del dataset:"
      ]
    },
    {
      "cell_type": "code",
      "metadata": {
        "colab": {
          "base_uri": "https://localhost:8080/"
        },
        "id": "AJiLE3kW_-BQ",
        "outputId": "27f7f568-67f0-466f-fdcf-2f6b17930e13"
      },
      "source": [
        "clf2 = RandomForestRegressor(max_depth=10, criterion='mse', max_features='sqrt')\n",
        "clf2.fit(X,y)"
      ],
      "execution_count": null,
      "outputs": [
        {
          "output_type": "execute_result",
          "data": {
            "text/plain": [
              "RandomForestRegressor(max_depth=10, max_features='sqrt')"
            ]
          },
          "metadata": {
            "tags": []
          },
          "execution_count": 38
        }
      ]
    },
    {
      "cell_type": "code",
      "metadata": {
        "colab": {
          "base_uri": "https://localhost:8080/"
        },
        "id": "os3Z72cOBZNv",
        "outputId": "f52203ac-d801-4bce-8e02-d8b03f9aa16c"
      },
      "source": [
        "inputs = np.random.sample(7).reshape(1,-1)\n",
        "clf2.predict(inputs)"
      ],
      "execution_count": null,
      "outputs": [
        {
          "output_type": "execute_result",
          "data": {
            "text/plain": [
              "array([278.83309073])"
            ]
          },
          "metadata": {
            "tags": []
          },
          "execution_count": 39
        }
      ]
    },
    {
      "cell_type": "markdown",
      "metadata": {
        "id": "xQqaoHDUHk7u"
      },
      "source": [
        "Ahora vamos a aprovechar el modelo entrenado para hacer predicciones en un servidor"
      ]
    },
    {
      "cell_type": "code",
      "metadata": {
        "colab": {
          "base_uri": "https://localhost:8080/"
        },
        "id": "8x0bXJrNHvOh",
        "outputId": "804a5bb1-2390-4c7e-def0-ad8a926d7f5f"
      },
      "source": [
        "joblib.dump(clf,'trained_model_3.pkl')\n"
      ],
      "execution_count": null,
      "outputs": [
        {
          "output_type": "execute_result",
          "data": {
            "text/plain": [
              "['trained_model_3.pkl']"
            ]
          },
          "metadata": {
            "tags": []
          },
          "execution_count": 40
        }
      ]
    },
    {
      "cell_type": "code",
      "metadata": {
        "colab": {
          "base_uri": "https://localhost:8080/"
        },
        "id": "xpRhq4UH6omx",
        "outputId": "6ab7085f-ef45-4fff-8646-7e6e4e9a9299"
      },
      "source": [
        "joblib.dump(clf2,'full_trained_model_3.pkl')"
      ],
      "execution_count": null,
      "outputs": [
        {
          "output_type": "execute_result",
          "data": {
            "text/plain": [
              "['full_trained_model_3.pkl']"
            ]
          },
          "metadata": {
            "tags": []
          },
          "execution_count": 41
        }
      ]
    }
  ]
}